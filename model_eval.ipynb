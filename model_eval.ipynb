{
 "cells": [
  {
   "cell_type": "code",
   "execution_count": 1,
   "id": "26a5c74b",
   "metadata": {},
   "outputs": [],
   "source": [
    "import pandas as pd\n",
    "import numpy as np\n",
    "import matplotlib.pyplot as plt\n",
    "import seaborn as sns\n",
    "\n",
    "from sklearn.linear_model import LogisticRegression\n",
    "from sklearn.neighbors import KNeighborsClassifier\n",
    "from sklearn.ensemble import RandomForestClassifier\n",
    "from sklearn.feature_extraction.text import CountVectorizer, TfidfVectorizer\n",
    "from sklearn.pipeline import Pipeline\n",
    "from sklearn.model_selection import train_test_split, GridSearchCV, cross_val_score\n",
    "from sklearn.metrics import confusion_matrix, plot_confusion_matrix, accuracy_score, plot_roc_curve, roc_auc_score, recall_score, precision_score, f1_score\n",
    "\n",
    "from nltk.corpus import stopwords"
   ]
  },
  {
   "cell_type": "markdown",
   "id": "1dc17dfe",
   "metadata": {},
   "source": [
    "### Read in Data"
   ]
  },
  {
   "cell_type": "code",
   "execution_count": 2,
   "id": "3784a95f",
   "metadata": {
    "scrolled": true
   },
   "outputs": [
    {
     "data": {
      "text/html": [
       "<div>\n",
       "<style scoped>\n",
       "    .dataframe tbody tr th:only-of-type {\n",
       "        vertical-align: middle;\n",
       "    }\n",
       "\n",
       "    .dataframe tbody tr th {\n",
       "        vertical-align: top;\n",
       "    }\n",
       "\n",
       "    .dataframe thead th {\n",
       "        text-align: right;\n",
       "    }\n",
       "</style>\n",
       "<table border=\"1\" class=\"dataframe\">\n",
       "  <thead>\n",
       "    <tr style=\"text-align: right;\">\n",
       "      <th></th>\n",
       "      <th>Unnamed: 0</th>\n",
       "      <th>title</th>\n",
       "      <th>selftext</th>\n",
       "      <th>label</th>\n",
       "      <th>combo</th>\n",
       "      <th>combo_lem</th>\n",
       "      <th>combo_stem</th>\n",
       "    </tr>\n",
       "  </thead>\n",
       "  <tbody>\n",
       "    <tr>\n",
       "      <th>0</th>\n",
       "      <td>0</td>\n",
       "      <td>What's this I've been hearing about turning NH...</td>\n",
       "      <td>Can someone fill me in on what's going on with...</td>\n",
       "      <td>1</td>\n",
       "      <td>What's this I've been hearing about turning NH...</td>\n",
       "      <td>What's this I've been hearing about turning NH...</td>\n",
       "      <td>what's this i've been hearing about turning nh...</td>\n",
       "    </tr>\n",
       "    <tr>\n",
       "      <th>1</th>\n",
       "      <td>1</td>\n",
       "      <td>ELI5: What's this about turning NHL jerseys in...</td>\n",
       "      <td>I can't watch local games, I can't play the si...</td>\n",
       "      <td>1</td>\n",
       "      <td>ELI5: What's this about turning NHL jerseys in...</td>\n",
       "      <td>ELI5: What's this about turning NHL jerseys in...</td>\n",
       "      <td>eli5: what's this about turning nhl jerseys in...</td>\n",
       "    </tr>\n",
       "    <tr>\n",
       "      <th>2</th>\n",
       "      <td>4</td>\n",
       "      <td>Does ESPN+ Currently Have Last Seasons Games?</td>\n",
       "      <td>Trying to fill the hole in my life, but I don'...</td>\n",
       "      <td>1</td>\n",
       "      <td>Does ESPN+ Currently Have Last Seasons Games?T...</td>\n",
       "      <td>Does ESPN+ Currently Have Last Seasons Games?T...</td>\n",
       "      <td>does espn+ currently have last seasons games?t...</td>\n",
       "    </tr>\n",
       "    <tr>\n",
       "      <th>3</th>\n",
       "      <td>14</td>\n",
       "      <td>Do Little League and kids Hickey teams use NHL...</td>\n",
       "      <td>I used to play Hockey in the Little Leagues (P...</td>\n",
       "      <td>1</td>\n",
       "      <td>Do Little League and kids Hickey teams use NHL...</td>\n",
       "      <td>Do Little League and kids Hickey teams use NHL...</td>\n",
       "      <td>do little league and kids hickey teams use nhl...</td>\n",
       "    </tr>\n",
       "    <tr>\n",
       "      <th>4</th>\n",
       "      <td>17</td>\n",
       "      <td>About to be a New Yorker and want to get into ...</td>\n",
       "      <td>About to be a New Yorker and want to get into ...</td>\n",
       "      <td>1</td>\n",
       "      <td>About to be a New Yorker and want to get into ...</td>\n",
       "      <td>About to be a New Yorker and want to get into ...</td>\n",
       "      <td>about to be a new yorker and want to get into ...</td>\n",
       "    </tr>\n",
       "  </tbody>\n",
       "</table>\n",
       "</div>"
      ],
      "text/plain": [
       "   Unnamed: 0                                              title  \\\n",
       "0           0  What's this I've been hearing about turning NH...   \n",
       "1           1  ELI5: What's this about turning NHL jerseys in...   \n",
       "2           4      Does ESPN+ Currently Have Last Seasons Games?   \n",
       "3          14  Do Little League and kids Hickey teams use NHL...   \n",
       "4          17  About to be a New Yorker and want to get into ...   \n",
       "\n",
       "                                            selftext  label  \\\n",
       "0  Can someone fill me in on what's going on with...      1   \n",
       "1  I can't watch local games, I can't play the si...      1   \n",
       "2  Trying to fill the hole in my life, but I don'...      1   \n",
       "3  I used to play Hockey in the Little Leagues (P...      1   \n",
       "4  About to be a New Yorker and want to get into ...      1   \n",
       "\n",
       "                                               combo  \\\n",
       "0  What's this I've been hearing about turning NH...   \n",
       "1  ELI5: What's this about turning NHL jerseys in...   \n",
       "2  Does ESPN+ Currently Have Last Seasons Games?T...   \n",
       "3  Do Little League and kids Hickey teams use NHL...   \n",
       "4  About to be a New Yorker and want to get into ...   \n",
       "\n",
       "                                           combo_lem  \\\n",
       "0  What's this I've been hearing about turning NH...   \n",
       "1  ELI5: What's this about turning NHL jerseys in...   \n",
       "2  Does ESPN+ Currently Have Last Seasons Games?T...   \n",
       "3  Do Little League and kids Hickey teams use NHL...   \n",
       "4  About to be a New Yorker and want to get into ...   \n",
       "\n",
       "                                          combo_stem  \n",
       "0  what's this i've been hearing about turning nh...  \n",
       "1  eli5: what's this about turning nhl jerseys in...  \n",
       "2  does espn+ currently have last seasons games?t...  \n",
       "3  do little league and kids hickey teams use nhl...  \n",
       "4  about to be a new yorker and want to get into ...  "
      ]
     },
     "execution_count": 2,
     "metadata": {},
     "output_type": "execute_result"
    }
   ],
   "source": [
    "nhl_nba_df = pd.read_csv('data/nhl_nba_df.csv')\n",
    "nhl_nba_df.head()"
   ]
  },
  {
   "cell_type": "markdown",
   "id": "81e4821b",
   "metadata": {},
   "source": [
    "### Word Counts and Stop Words"
   ]
  },
  {
   "cell_type": "code",
   "execution_count": 3,
   "id": "9ccbc6d5",
   "metadata": {},
   "outputs": [
    {
     "data": {
      "text/html": [
       "<div>\n",
       "<style scoped>\n",
       "    .dataframe tbody tr th:only-of-type {\n",
       "        vertical-align: middle;\n",
       "    }\n",
       "\n",
       "    .dataframe tbody tr th {\n",
       "        vertical-align: top;\n",
       "    }\n",
       "\n",
       "    .dataframe thead th {\n",
       "        text-align: right;\n",
       "    }\n",
       "</style>\n",
       "<table border=\"1\" class=\"dataframe\">\n",
       "  <thead>\n",
       "    <tr style=\"text-align: right;\">\n",
       "      <th></th>\n",
       "      <th>0</th>\n",
       "    </tr>\n",
       "  </thead>\n",
       "  <tbody>\n",
       "    <tr>\n",
       "      <th>removed</th>\n",
       "      <td>89.763221</td>\n",
       "    </tr>\n",
       "    <tr>\n",
       "      <th>team</th>\n",
       "      <td>67.763588</td>\n",
       "    </tr>\n",
       "    <tr>\n",
       "      <th>nba</th>\n",
       "      <td>64.272403</td>\n",
       "    </tr>\n",
       "    <tr>\n",
       "      <th>game</th>\n",
       "      <td>56.096577</td>\n",
       "    </tr>\n",
       "    <tr>\n",
       "      <th>player</th>\n",
       "      <td>49.716673</td>\n",
       "    </tr>\n",
       "  </tbody>\n",
       "</table>\n",
       "</div>"
      ],
      "text/plain": [
       "                 0\n",
       "removed  89.763221\n",
       "team     67.763588\n",
       "nba      64.272403\n",
       "game     56.096577\n",
       "player   49.716673"
      ]
     },
     "execution_count": 3,
     "metadata": {},
     "output_type": "execute_result"
    }
   ],
   "source": [
    "#Identify and adding to stop words\n",
    "# from sklearn.feature_extraction.text import CountVectorizer, TfidfVectorizer\n",
    "\n",
    "tfidf = TfidfVectorizer(stop_words = 'english')\n",
    "tfidf.fit(nhl_nba_df['combo'])\n",
    "\n",
    "word_count_df = pd.DataFrame(tfidf.transform(nhl_nba_df['combo']).todense(),\n",
    "                  columns = tfidf.get_feature_names())\n",
    "\n",
    "for i in word_count_df.columns:\n",
    "    word_count_df[i] = word_count_df[i].sum()\n",
    "    \n",
    "word_count_df = word_count_df.loc[:0].T.sort_values(0, ascending=False)\n",
    "word_count_df.head()"
   ]
  },
  {
   "cell_type": "code",
   "execution_count": 4,
   "id": "63fdc8b0",
   "metadata": {},
   "outputs": [
    {
     "data": {
      "text/html": [
       "<div>\n",
       "<style scoped>\n",
       "    .dataframe tbody tr th:only-of-type {\n",
       "        vertical-align: middle;\n",
       "    }\n",
       "\n",
       "    .dataframe tbody tr th {\n",
       "        vertical-align: top;\n",
       "    }\n",
       "\n",
       "    .dataframe thead th {\n",
       "        text-align: right;\n",
       "    }\n",
       "</style>\n",
       "<table border=\"1\" class=\"dataframe\">\n",
       "  <thead>\n",
       "    <tr style=\"text-align: right;\">\n",
       "      <th></th>\n",
       "      <th>word</th>\n",
       "      <th>count</th>\n",
       "    </tr>\n",
       "  </thead>\n",
       "  <tbody>\n",
       "    <tr>\n",
       "      <th>0</th>\n",
       "      <td>removed</td>\n",
       "      <td>89.763221</td>\n",
       "    </tr>\n",
       "    <tr>\n",
       "      <th>1</th>\n",
       "      <td>team</td>\n",
       "      <td>67.763588</td>\n",
       "    </tr>\n",
       "    <tr>\n",
       "      <th>2</th>\n",
       "      <td>nba</td>\n",
       "      <td>64.272403</td>\n",
       "    </tr>\n",
       "    <tr>\n",
       "      <th>3</th>\n",
       "      <td>game</td>\n",
       "      <td>56.096577</td>\n",
       "    </tr>\n",
       "    <tr>\n",
       "      <th>4</th>\n",
       "      <td>player</td>\n",
       "      <td>49.716673</td>\n",
       "    </tr>\n",
       "  </tbody>\n",
       "</table>\n",
       "</div>"
      ],
      "text/plain": [
       "      word      count\n",
       "0  removed  89.763221\n",
       "1     team  67.763588\n",
       "2      nba  64.272403\n",
       "3     game  56.096577\n",
       "4   player  49.716673"
      ]
     },
     "execution_count": 4,
     "metadata": {},
     "output_type": "execute_result"
    }
   ],
   "source": [
    "word_count_df.reset_index(inplace=True)\n",
    "word_count_df.rename(columns={'index':'word', 0:'count'}, inplace=True)\n",
    "word_count_df.head()"
   ]
  },
  {
   "cell_type": "code",
   "execution_count": 5,
   "id": "92020698",
   "metadata": {},
   "outputs": [
    {
     "data": {
      "image/png": "[encoded data removed]",
      "text/plain": [
       "<Figure size 1440x432 with 1 Axes>"
      ]
     },
     "metadata": {
      "needs_background": "light"
     },
     "output_type": "display_data"
    }
   ],
   "source": [
    "# plt.hist\n",
    "root_words = ['hockey', 'basketball', 'nba', 'nhl']\n",
    "custom_stop_words = [w for w in word_count_df.word for i in root_words if i in w]\n",
    "fig, ax = plt.subplots(figsize = (20,6))\n",
    "plt.hist(word_count_df['count'], bins=50);\n",
    "for i in custom_stop_words:\n",
    "    stopword = word_count_df[word_count_df.word == i]['count'].values\n",
    "    plt.axvline(stopword, color='red', linewidth=1, alpha=.5)\n",
    "plt.title('Word Frequency Distrobution')\n",
    "plt.xlabel('Word Frequency')\n",
    "plt.ylabel('Number of Words by Frequency')\n",
    "label = ['Stop words']\n",
    "plt.legend(labels=label);\n",
    "plt.savefig(\"distro.png\")"
   ]
  },
  {
   "cell_type": "code",
   "execution_count": 6,
   "id": "421f74d9",
   "metadata": {},
   "outputs": [
    {
     "data": {
      "text/plain": [
       "['i',\n",
       " 'me',\n",
       " 'my',\n",
       " 'myself',\n",
       " 'we',\n",
       " 'our',\n",
       " 'ours',\n",
       " 'ourselves',\n",
       " 'you',\n",
       " \"you're\",\n",
       " \"you've\",\n",
       " \"you'll\",\n",
       " \"you'd\",\n",
       " 'your',\n",
       " 'yours',\n",
       " 'yourself',\n",
       " 'yourselves',\n",
       " 'he',\n",
       " 'him',\n",
       " 'his',\n",
       " 'himself',\n",
       " 'she',\n",
       " \"she's\",\n",
       " 'her',\n",
       " 'hers',\n",
       " 'herself',\n",
       " 'it',\n",
       " \"it's\",\n",
       " 'its',\n",
       " 'itself',\n",
       " 'they',\n",
       " 'them',\n",
       " 'their',\n",
       " 'theirs',\n",
       " 'themselves',\n",
       " 'what',\n",
       " 'which',\n",
       " 'who',\n",
       " 'whom',\n",
       " 'this',\n",
       " 'that',\n",
       " \"that'll\",\n",
       " 'these',\n",
       " 'those',\n",
       " 'am',\n",
       " 'is',\n",
       " 'are',\n",
       " 'was',\n",
       " 'were',\n",
       " 'be',\n",
       " 'been',\n",
       " 'being',\n",
       " 'have',\n",
       " 'has',\n",
       " 'had',\n",
       " 'having',\n",
       " 'do',\n",
       " 'does',\n",
       " 'did',\n",
       " 'doing',\n",
       " 'a',\n",
       " 'an',\n",
       " 'the',\n",
       " 'and',\n",
       " 'but',\n",
       " 'if',\n",
       " 'or',\n",
       " 'because',\n",
       " 'as',\n",
       " 'until',\n",
       " 'while',\n",
       " 'of',\n",
       " 'at',\n",
       " 'by',\n",
       " 'for',\n",
       " 'with',\n",
       " 'about',\n",
       " 'against',\n",
       " 'between',\n",
       " 'into',\n",
       " 'through',\n",
       " 'during',\n",
       " 'before',\n",
       " 'after',\n",
       " 'above',\n",
       " 'below',\n",
       " 'to',\n",
       " 'from',\n",
       " 'up',\n",
       " 'down',\n",
       " 'in',\n",
       " 'out',\n",
       " 'on',\n",
       " 'off',\n",
       " 'over',\n",
       " 'under',\n",
       " 'again',\n",
       " 'further',\n",
       " 'then',\n",
       " 'once',\n",
       " 'here',\n",
       " 'there',\n",
       " 'when',\n",
       " 'where',\n",
       " 'why',\n",
       " 'how',\n",
       " 'all',\n",
       " 'any',\n",
       " 'both',\n",
       " 'each',\n",
       " 'few',\n",
       " 'more',\n",
       " 'most',\n",
       " 'other',\n",
       " 'some',\n",
       " 'such',\n",
       " 'no',\n",
       " 'nor',\n",
       " 'not',\n",
       " 'only',\n",
       " 'own',\n",
       " 'same',\n",
       " 'so',\n",
       " 'than',\n",
       " 'too',\n",
       " 'very',\n",
       " 's',\n",
       " 't',\n",
       " 'can',\n",
       " 'will',\n",
       " 'just',\n",
       " 'don',\n",
       " \"don't\",\n",
       " 'should',\n",
       " \"should've\",\n",
       " 'now',\n",
       " 'd',\n",
       " 'll',\n",
       " 'm',\n",
       " 'o',\n",
       " 're',\n",
       " 've',\n",
       " 'y',\n",
       " 'ain',\n",
       " 'aren',\n",
       " \"aren't\",\n",
       " 'couldn',\n",
       " \"couldn't\",\n",
       " 'didn',\n",
       " \"didn't\",\n",
       " 'doesn',\n",
       " \"doesn't\",\n",
       " 'hadn',\n",
       " \"hadn't\",\n",
       " 'hasn',\n",
       " \"hasn't\",\n",
       " 'haven',\n",
       " \"haven't\",\n",
       " 'isn',\n",
       " \"isn't\",\n",
       " 'ma',\n",
       " 'mightn',\n",
       " \"mightn't\",\n",
       " 'mustn',\n",
       " \"mustn't\",\n",
       " 'needn',\n",
       " \"needn't\",\n",
       " 'shan',\n",
       " \"shan't\",\n",
       " 'shouldn',\n",
       " \"shouldn't\",\n",
       " 'wasn',\n",
       " \"wasn't\",\n",
       " 'weren',\n",
       " \"weren't\",\n",
       " 'won',\n",
       " \"won't\",\n",
       " 'wouldn',\n",
       " \"wouldn't\"]"
      ]
     },
     "execution_count": 6,
     "metadata": {},
     "output_type": "execute_result"
    }
   ],
   "source": [
    "stopwords.words('english')"
   ]
  },
  {
   "cell_type": "code",
   "execution_count": 7,
   "id": "c74c81b7",
   "metadata": {},
   "outputs": [
    {
     "name": "stdout",
     "output_type": "stream",
     "text": [
      "['i', 'me', 'my', 'myself', 'we', 'our', 'ours', 'ourselves', 'you', \"you're\", \"you've\", \"you'll\", \"you'd\", 'your', 'yours', 'yourself', 'yourselves', 'he', 'him', 'his', 'himself', 'she', \"she's\", 'her', 'hers', 'herself', 'it', \"it's\", 'its', 'itself', 'they', 'them', 'their', 'theirs', 'themselves', 'what', 'which', 'who', 'whom', 'this', 'that', \"that'll\", 'these', 'those', 'am', 'is', 'are', 'was', 'were', 'be', 'been', 'being', 'have', 'has', 'had', 'having', 'do', 'does', 'did', 'doing', 'a', 'an', 'the', 'and', 'but', 'if', 'or', 'because', 'as', 'until', 'while', 'of', 'at', 'by', 'for', 'with', 'about', 'against', 'between', 'into', 'through', 'during', 'before', 'after', 'above', 'below', 'to', 'from', 'up', 'down', 'in', 'out', 'on', 'off', 'over', 'under', 'again', 'further', 'then', 'once', 'here', 'there', 'when', 'where', 'why', 'how', 'all', 'any', 'both', 'each', 'few', 'more', 'most', 'other', 'some', 'such', 'no', 'nor', 'not', 'only', 'own', 'same', 'so', 'than', 'too', 'very', 's', 't', 'can', 'will', 'just', 'don', \"don't\", 'should', \"should've\", 'now', 'd', 'll', 'm', 'o', 're', 've', 'y', 'ain', 'aren', \"aren't\", 'couldn', \"couldn't\", 'didn', \"didn't\", 'doesn', \"doesn't\", 'hadn', \"hadn't\", 'hasn', \"hasn't\", 'haven', \"haven't\", 'isn', \"isn't\", 'ma', 'mightn', \"mightn't\", 'mustn', \"mustn't\", 'needn', \"needn't\", 'shan', \"shan't\", 'shouldn', \"shouldn't\", 'wasn', \"wasn't\", 'weren', \"weren't\", 'won', \"won't\", 'wouldn', \"wouldn't\", 'nba', 'nhl', 'hockey', 'basketball', 'wnba', 'thehockeywriters', 'hockeys', 'nhli', 'fanbase', 'rnbapgtgenerator', 'fanbases', 'nbaontnt', 'nhl21', 'pinball', 'nhl_2021_hat', 'nhler', 'hockeyhi', 'nhland', 'nbacrazystats', 'nhlpa', 'hockeyit', 'beanbag', 'nhlhe', 'nbamel', 'battlwhockey', 'hockeyskated', 'nbasummerleague', 'debutnhl', 'caa_basketball', 'nbahe', 'hockeyis', 'fanbasei', 'hockeysgreatesttiktokacc', 'your_team_is_guaranteed_a_trip_to_the_nba_finals', 'list_of_oldest_and_youngest_national_basketball_association_players', 'nbain', 'hockeystanley', 'nhlhello', 'nbawith', 'nbateamshotselectiondashboard', 'nbashootingselectionstatsbyteam', 'nbapr', 'ask_me_a_question_about_the_nba_and_then_edit_it', 'releasednba', 'nhlexpansiondraft', '_hockey', 'ice_hockey_at_the_2022_winter_olympics', 'alexkennedynba', 'alexgoldennba', 'wildhockey', 'nba2k', '9319_nhl_season', 'danemoorenba', '2021nba', 'nbadraftroom', 'nhltraderumors', 'nbabigboard', 'seasonbasically', 'hockeyfeed', 'hockeyone', 'list_of_players_in_the_naismith_memorial_basketball_hall_of_fame', 'nhlers', 'rnbas_50_best_in_50_days_day_1', 'nba_layer_cake_ranking_all_the_teams_starting', 'rnbas_50_best_in_50_days_day_3', 'rnbas_50_best_in_50_days_day_2', 'rnbas_50_best_in_50_days_day_4', 'drafthockey', 'rnbas_50_best_in_50_days_day_5', 'national_basketball_league_', 'nba_playoffs', 'basketball_association_of_america', 'professional_basketball', 'nhls', 'nba_layer_cake_ranking_teams_in_the_2025_range', 'nba_layer_cake_ranking_all_the_teams_in_the_1014', 'oc_nba_layer_cake_ranking_all_the_teams_in_the', 'basketballer', '1983_nba_draft', '1981_nba_draft', '1982_nba_draft', '1984_nba_draft', '1988_nba_draft', '1990_nba_draft', '1989_nba_draft', '1987_nba_draft', '1985_nba_draft', '1991_nba_draft', '1986_nba_draft', '1993_nba_draft', '1992_nba_draft', '1994_nba_draft', '1998_nba_draft', '1980_nba_draft', '1999_nba_draft', '2013_nba_draft', '2014_nba_draft', '1970_nba_draft', '1969_nba_draft', '2015_nba_draft', '1976_nba_draft', '2000_nba_draft', '1968_nba_draft', '2006_nba_draft', '1977_nba_draft', '1996_nba_draft', '1975_nba_draft', '1978_nba_draft', '1967_nba_draft', '2012_nba_draft', '1974_nba_draft', '2003_nba_draft', '2002_nba_draft', '2001_nba_draft', '1997_nba_draft', '2007_nba_draft', '1973_nba_draft', '2005_nba_draft', '2008_nba_draft', '1972_nba_draft', '2009_nba_draft', '1971_nba_draft', '2010_nba_draft', '2011_nba_draft', '1995_nba_draft', '1966_nba_draft', '1979_nba_draft', '2004_nba_draft']\n"
     ]
    }
   ],
   "source": [
    "#Add our new NHL and NBA specific 'custom_stop_words' list to the standard NLTK stop words\n",
    "s_words = stopwords.words('english')\n",
    "s_words = s_words + custom_stop_words\n",
    "print(s_words)"
   ]
  },
  {
   "cell_type": "markdown",
   "id": "4eaa64ea",
   "metadata": {},
   "source": [
    "### Model"
   ]
  },
  {
   "cell_type": "code",
   "execution_count": 8,
   "id": "5beac647",
   "metadata": {},
   "outputs": [
    {
     "data": {
      "text/plain": [
       "0    0.626667\n",
       "1    0.373333\n",
       "Name: label, dtype: float64"
      ]
     },
     "execution_count": 8,
     "metadata": {},
     "output_type": "execute_result"
    }
   ],
   "source": [
    "# Create X and y\n",
    "X = nhl_nba_df['combo']\n",
    "X_lem = nhl_nba_df['combo_lem']\n",
    "X_stem = nhl_nba_df['combo_stem']\n",
    "\n",
    "y = nhl_nba_df['label']\n",
    "\n",
    "# Whats the baseline score\n",
    "y.value_counts(normalize=True)"
   ]
  },
  {
   "cell_type": "code",
   "execution_count": 9,
   "id": "352d6b8f",
   "metadata": {},
   "outputs": [],
   "source": [
    "# train test split\n",
    "X_train, X_test, y_train, y_test = train_test_split(X, y, random_state=42)\n",
    "X_train_lem, X_test_lem, y_train, y_test = train_test_split(X_lem, y, random_state=42)\n",
    "X_train_stem, X_test_stem, y_train, y_test = train_test_split(X_stem, y, random_state=42)"
   ]
  },
  {
   "cell_type": "markdown",
   "id": "6b91955a",
   "metadata": {},
   "source": [
    "### Model Comparison"
   ]
  },
  {
   "cell_type": "code",
   "execution_count": 12,
   "id": "68456215",
   "metadata": {},
   "outputs": [],
   "source": [
    "tts_list = [[X_train, X_test, y_train, y_test], [X_train_lem, X_test_lem, y_train, y_test], [X_train_stem, X_test_stem, y_train, y_test]]"
   ]
  },
  {
   "cell_type": "markdown",
   "id": "85c5bd71",
   "metadata": {},
   "source": [
    "#### KNN"
   ]
  },
  {
   "cell_type": "code",
   "execution_count": 13,
   "id": "37f66aaa",
   "metadata": {},
   "outputs": [
    {
     "name": "stdout",
     "output_type": "stream",
     "text": [
      "No text normalization:\n",
      "R-Squared Score:  0.88\n",
      "Cross Val Scores:  [0.82962963 0.79259259 0.91111111 0.9037037  0.79259259]\n",
      "Cross Val Mean and Conf. Interval: 0.8459259259259259 ± 0.10408395893481653 \n",
      "\n",
      "Lemmatization:\n",
      "R-Squared Score:  0.88\n",
      "Cross Val Scores:  [0.82962963 0.79259259 0.91111111 0.9037037  0.79259259]\n",
      "Cross Val Mean and Conf. Interval: 0.8459259259259259 ± 0.10408395893481653 \n",
      "\n",
      "Stemming:\n",
      "R-Squared Score:  0.8785185185185185\n",
      "Cross Val Scores:  [0.82962963 0.8        0.91111111 0.8962963  0.79259259]\n",
      "Cross Val Mean and Conf. Interval: 0.8459259259259259 ± 0.0980019876061702 \n",
      "\n"
     ]
    }
   ],
   "source": [
    "# Instantiate KNN\n",
    "knn_pipe = Pipeline([\n",
    "    ('vect', TfidfVectorizer(stop_words=s_words)),\n",
    "    ('knn', KNeighborsClassifier())\n",
    "])\n",
    "# Fit\n",
    "knn_pipe.fit(X_train, y_train)\n",
    "# Score\n",
    "print('No text normalization:')\n",
    "print('R-Squared Score: ', knn_pipe.score(X_test, y_test))\n",
    "c_val_scores = cross_val_score(knn_pipe, X_test, y_test)\n",
    "print('Cross Val Scores: ', c_val_scores)\n",
    "print('Cross Val Mean and Conf. Interval: {} ± {}'.format(c_val_scores.mean(), \n",
    "                                 2 * c_val_scores.std()), '\\n')\n",
    "\n",
    "print('Lemmatization:')\n",
    "print('R-Squared Score: ', knn_pipe.score(X_test_lem, y_test))\n",
    "c_val_scores = cross_val_score(knn_pipe, X_test_lem, y_test)\n",
    "print('Cross Val Scores: ', c_val_scores)\n",
    "print('Cross Val Mean and Conf. Interval: {} ± {}'.format(c_val_scores.mean(), \n",
    "                                 2 * c_val_scores.std()), '\\n')\n",
    "\n",
    "print('Stemming:')\n",
    "print('R-Squared Score: ', knn_pipe.score(X_test_stem, y_test))\n",
    "c_val_scores = cross_val_score(knn_pipe, X_test_stem, y_test)\n",
    "print('Cross Val Scores: ', c_val_scores)\n",
    "print('Cross Val Mean and Conf. Interval: {} ± {}'.format(c_val_scores.mean(), \n",
    "                                 2 * c_val_scores.std()), '\\n')"
   ]
  },
  {
   "cell_type": "markdown",
   "id": "73352138",
   "metadata": {},
   "source": [
    "#### Logistic Regression"
   ]
  },
  {
   "cell_type": "code",
   "execution_count": 14,
   "id": "74b7a6ae",
   "metadata": {},
   "outputs": [
    {
     "name": "stdout",
     "output_type": "stream",
     "text": [
      "No text normalization:\n",
      "R-Squared Score:  0.8992592592592593\n",
      "Cross Val Scores:  [0.81481481 0.79259259 0.87407407 0.83703704 0.78518519]\n",
      "Cross Val Mean and Conf. Interval: 0.8207407407407408 ± 0.06450826979874738 \n",
      "\n",
      "Lemmatization:\n",
      "R-Squared Score:  0.8992592592592593\n",
      "Cross Val Scores:  [0.81481481 0.79259259 0.87407407 0.83703704 0.78518519]\n",
      "Cross Val Mean and Conf. Interval: 0.8207407407407408 ± 0.06450826979874738 \n",
      "\n",
      "Stemming:\n",
      "R-Squared Score:  0.8977777777777778\n",
      "Cross Val Scores:  [0.81481481 0.79259259 0.88148148 0.83703704 0.78518519]\n",
      "Cross Val Mean and Conf. Interval: 0.8222222222222222 ± 0.06948764088627304 \n",
      "\n"
     ]
    }
   ],
   "source": [
    "# Instantiate logistic regression\n",
    "lr_pipe = Pipeline([\n",
    "    ('vect', TfidfVectorizer(stop_words=s_words)),\n",
    "    ('lr', LogisticRegression())\n",
    "])\n",
    "# Fit\n",
    "lr_pipe.fit(X_train, y_train)\n",
    "#Score\n",
    "print('No text normalization:')\n",
    "print('R-Squared Score: ', lr_pipe.score(X_test, y_test))\n",
    "c_val_scores = cross_val_score(lr_pipe, X_test, y_test)\n",
    "print('Cross Val Scores: ', c_val_scores)\n",
    "print('Cross Val Mean and Conf. Interval: {} ± {}'.format(c_val_scores.mean(), \n",
    "                                 2 * c_val_scores.std()), '\\n')\n",
    "\n",
    "print('Lemmatization:')\n",
    "print('R-Squared Score: ', lr_pipe.score(X_test_lem, y_test))\n",
    "c_val_scores = cross_val_score(lr_pipe, X_test_lem, y_test)\n",
    "print('Cross Val Scores: ', c_val_scores)\n",
    "print('Cross Val Mean and Conf. Interval: {} ± {}'.format(c_val_scores.mean(), \n",
    "                                 2 * c_val_scores.std()), '\\n')\n",
    "\n",
    "print('Stemming:')\n",
    "print('R-Squared Score: ', lr_pipe.score(X_test_stem, y_test))\n",
    "c_val_scores = cross_val_score(lr_pipe, X_test_stem, y_test)\n",
    "print('Cross Val Scores: ', c_val_scores)\n",
    "print('Cross Val Mean and Conf. Interval: {} ± {}'.format(c_val_scores.mean(), \n",
    "                                 2 * c_val_scores.std()), '\\n')"
   ]
  },
  {
   "cell_type": "markdown",
   "id": "f774f073",
   "metadata": {},
   "source": [
    "#### Random Forest"
   ]
  },
  {
   "cell_type": "code",
   "execution_count": 15,
   "id": "f7867063",
   "metadata": {},
   "outputs": [
    {
     "name": "stdout",
     "output_type": "stream",
     "text": [
      "No text normalization:\n",
      "R-Squared Score:  0.9214814814814815\n",
      "Cross Val Scores:  [0.83703704 0.82962963 0.91851852 0.85925926 0.88148148]\n",
      "Cross Val Mean and Conf. Interval: 0.8651851851851852 ± 0.0645082697987474 \n",
      "\n",
      "Lemmatization:\n",
      "R-Squared Score:  0.9214814814814815\n",
      "Cross Val Scores:  [0.87407407 0.82222222 0.92592593 0.88888889 0.82962963]\n",
      "Cross Val Mean and Conf. Interval: 0.8681481481481482 ± 0.0769229925081314 \n",
      "\n",
      "Stemming:\n",
      "R-Squared Score:  0.9214814814814815\n",
      "Cross Val Scores:  [0.82962963 0.81481481 0.91851852 0.87407407 0.86666667]\n",
      "Cross Val Mean and Conf. Interval: 0.8607407407407408 ± 0.0728189969033749 \n",
      "\n"
     ]
    }
   ],
   "source": [
    "# Instantiate Random Forest\n",
    "rf_pipe = Pipeline([\n",
    "    ('vect', TfidfVectorizer(stop_words=s_words)),\n",
    "    ('lr', RandomForestClassifier())\n",
    "])\n",
    "# Fit\n",
    "rf_pipe.fit(X_train, y_train)\n",
    "#Score\n",
    "print('No text normalization:')\n",
    "print('R-Squared Score: ', rf_pipe.score(X_test, y_test))\n",
    "c_val_scores = cross_val_score(rf_pipe, X_test, y_test)\n",
    "print('Cross Val Scores: ', c_val_scores)\n",
    "print('Cross Val Mean and Conf. Interval: {} ± {}'.format(c_val_scores.mean(), \n",
    "                                 2 * c_val_scores.std()), '\\n')\n",
    "\n",
    "print('Lemmatization:')\n",
    "print('R-Squared Score: ', rf_pipe.score(X_test_lem, y_test))\n",
    "c_val_scores = cross_val_score(rf_pipe, X_test_lem, y_test)\n",
    "print('Cross Val Scores: ', c_val_scores)\n",
    "print('Cross Val Mean and Conf. Interval: {} ± {}'.format(c_val_scores.mean(), \n",
    "                                 2 * c_val_scores.std()), '\\n')\n",
    "\n",
    "print('Stemming:')\n",
    "print('R-Squared Score: ', rf_pipe.score(X_test_stem, y_test))\n",
    "c_val_scores = cross_val_score(rf_pipe, X_test_stem, y_test)\n",
    "print('Cross Val Scores: ', c_val_scores)\n",
    "print('Cross Val Mean and Conf. Interval: {} ± {}'.format(c_val_scores.mean(), \n",
    "                                 2 * c_val_scores.std()), '\\n')"
   ]
  },
  {
   "cell_type": "markdown",
   "id": "c884ccc8",
   "metadata": {},
   "source": [
    "Random Forest yeilds us our best results of the 3 models. Furthermore TFIDF improves scores just slightly higher than CountVecotrizer. Explore why this is.\n",
    "\n",
    "Either way we'll use this model to test more in the param_grid."
   ]
  },
  {
   "cell_type": "code",
   "execution_count": 16,
   "id": "9f97b8a9",
   "metadata": {},
   "outputs": [
    {
     "name": "stdout",
     "output_type": "stream",
     "text": [
      "0.9012345679012347\n"
     ]
    },
    {
     "data": {
      "text/plain": [
       "{'vect__binary': False,\n",
       " 'vect__max_features': None,\n",
       " 'vect__ngram_range': (1, 1),\n",
       " 'vect__strip_accents': None}"
      ]
     },
     "execution_count": 16,
     "metadata": {},
     "output_type": "execute_result"
    }
   ],
   "source": [
    "#Score\n",
    "param_grid = {\n",
    "    'vect__binary': [True, False],\n",
    "    'vect__strip_accents': [None, 'ascii'],\n",
    "    'vect__max_features': [None, 5000, 10000],\n",
    "    'vect__ngram_range': [(1, 1), (1, 2), (1, 3)],\n",
    "}\n",
    "gs = GridSearchCV(rf_pipe, param_grid=param_grid)\n",
    "gs.fit(X_train_lem, y_train)\n",
    "print(gs.best_score_)\n",
    "gs.best_params_"
   ]
  },
  {
   "cell_type": "markdown",
   "id": "7052e7c9",
   "metadata": {},
   "source": [
    "### Evaluation"
   ]
  },
  {
   "cell_type": "code",
   "execution_count": 20,
   "id": "5dd67290",
   "metadata": {},
   "outputs": [
    {
     "data": {
      "image/png": "[encoded data removed]",
      "text/plain": [
       "<Figure size 432x288 with 2 Axes>"
      ]
     },
     "metadata": {
      "needs_background": "light"
     },
     "output_type": "display_data"
    }
   ],
   "source": [
    "plot_confusion_matrix(gs, X_test_lem, y_test)\n",
    "plt.savefig(\"c_matrix.png\")"
   ]
  },
  {
   "cell_type": "code",
   "execution_count": 18,
   "id": "e3e5d17f",
   "metadata": {
    "scrolled": true
   },
   "outputs": [
    {
     "name": "stdout",
     "output_type": "stream",
     "text": [
      "[[409   8]\n",
      " [ 49 209]]\n",
      "tn: 409\n",
      "fp: 8\n",
      "fn: 49\n",
      "tp: 209\n"
     ]
    }
   ],
   "source": [
    "# Generate predictions.\n",
    "\n",
    "# lr.fit(X_train, y_train)\n",
    "preds = gs.predict(X_test)\n",
    "\n",
    "# Save TN/FP/FN/TP values.\n",
    "tn, fp, fn, tp = confusion_matrix(y_test, preds).ravel()\n",
    "\n",
    "# Print matrix\n",
    "print(confusion_matrix(y_test, preds))\n",
    "print(f'tn: {tn}')\n",
    "print(f'fp: {fp}')\n",
    "print(f'fn: {fn}')\n",
    "print(f'tp: {tp}')"
   ]
  },
  {
   "cell_type": "markdown",
   "id": "bae3f389",
   "metadata": {},
   "source": [
    "### Next Steps"
   ]
  },
  {
   "cell_type": "markdown",
   "id": "fa9e0ccf",
   "metadata": {},
   "source": [
    "- Conitue fine-tuning hyperparameters in the GridSearchCV function\n",
    "- Explore additional features from the original API request data \n",
    "- Examine the words with high predictiveness as well as those contributing to the 49 False-Negative and 8 False-Positive predictions"
   ]
  },
  {
   "cell_type": "code",
   "execution_count": null,
   "id": "4250840f",
   "metadata": {},
   "outputs": [],
   "source": []
  }
 ],
 "metadata": {
  "kernelspec": {
   "display_name": "Python 3",
   "language": "python",
   "name": "python3"
  },
  "language_info": {
   "codemirror_mode": {
    "name": "ipython",
    "version": 3
   },
   "file_extension": ".py",
   "mimetype": "text/x-python",
   "name": "python",
   "nbconvert_exporter": "python",
   "pygments_lexer": "ipython3",
   "version": "3.8.8"
  }
 },
 "nbformat": 4,
 "nbformat_minor": 5
}

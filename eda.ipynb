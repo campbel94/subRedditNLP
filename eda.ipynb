{
 "cells": [
  {
   "cell_type": "code",
   "execution_count": 1,
   "id": "808ec3a6",
   "metadata": {},
   "outputs": [],
   "source": [
    "import pandas as pd\n",
    "import numpy as np\n",
    "import matplotlib.pyplot as plt\n",
    "import requests\n",
    "import time\n",
    "import warnings\n",
    "from nltk.stem import WordNetLemmatizer, PorterStemmer\n",
    "from nltk.corpus import stopwords\n",
    "\n",
    "warnings.filterwarnings('ignore')"
   ]
  },
  {
   "cell_type": "markdown",
   "id": "d8d18a2f",
   "metadata": {},
   "source": [
    "### Read in Data"
   ]
  },
  {
   "cell_type": "code",
   "execution_count": 2,
   "id": "21daf38f",
   "metadata": {},
   "outputs": [
    {
     "name": "stdout",
     "output_type": "stream",
     "text": [
      "(3000, 86)\n",
      "(3000, 82)\n"
     ]
    }
   ],
   "source": [
    "nhl_df = pd.read_csv('data/posts_nhl_2.csv')\n",
    "nba_df = pd.read_csv('data/posts_nba_2.csv')\n",
    "print(nhl_df.shape)\n",
    "print(nba_df.shape)"
   ]
  },
  {
   "cell_type": "markdown",
   "id": "96efb285",
   "metadata": {},
   "source": [
    "### Clean"
   ]
  },
  {
   "cell_type": "markdown",
   "id": "5ccdff25",
   "metadata": {},
   "source": [
    "- Remove all columns except 'title' and 'selftext'\n",
    "- Drop any null rows\n",
    "- Drop duplicate rows\n",
    "- Create new combination column for easier analysis \n",
    "- Concatenate into a single dataframe"
   ]
  },
  {
   "cell_type": "code",
   "execution_count": 3,
   "id": "ee2dd864",
   "metadata": {},
   "outputs": [
    {
     "data": {
      "text/html": [
       "<div>\n",
       "<style scoped>\n",
       "    .dataframe tbody tr th:only-of-type {\n",
       "        vertical-align: middle;\n",
       "    }\n",
       "\n",
       "    .dataframe tbody tr th {\n",
       "        vertical-align: top;\n",
       "    }\n",
       "\n",
       "    .dataframe thead th {\n",
       "        text-align: right;\n",
       "    }\n",
       "</style>\n",
       "<table border=\"1\" class=\"dataframe\">\n",
       "  <thead>\n",
       "    <tr style=\"text-align: right;\">\n",
       "      <th></th>\n",
       "      <th>Unnamed: 0</th>\n",
       "      <th>all_awardings</th>\n",
       "      <th>allow_live_comments</th>\n",
       "      <th>author</th>\n",
       "      <th>author_flair_css_class</th>\n",
       "      <th>author_flair_richtext</th>\n",
       "      <th>author_flair_text</th>\n",
       "      <th>author_flair_type</th>\n",
       "      <th>author_fullname</th>\n",
       "      <th>author_is_blocked</th>\n",
       "      <th>...</th>\n",
       "      <th>gallery_data</th>\n",
       "      <th>is_gallery</th>\n",
       "      <th>media_metadata</th>\n",
       "      <th>poll_data</th>\n",
       "      <th>removed_by_category</th>\n",
       "      <th>link_flair_css_class</th>\n",
       "      <th>author_cakeday</th>\n",
       "      <th>edited</th>\n",
       "      <th>suggested_sort</th>\n",
       "      <th>banned_by</th>\n",
       "    </tr>\n",
       "  </thead>\n",
       "  <tbody>\n",
       "    <tr>\n",
       "      <th>0</th>\n",
       "      <td>0</td>\n",
       "      <td>[]</td>\n",
       "      <td>False</td>\n",
       "      <td>akromyk</td>\n",
       "      <td>NaN</td>\n",
       "      <td>[]</td>\n",
       "      <td>NaN</td>\n",
       "      <td>text</td>\n",
       "      <td>t2_htlnd</td>\n",
       "      <td>False</td>\n",
       "      <td>...</td>\n",
       "      <td>NaN</td>\n",
       "      <td>NaN</td>\n",
       "      <td>NaN</td>\n",
       "      <td>NaN</td>\n",
       "      <td>NaN</td>\n",
       "      <td>NaN</td>\n",
       "      <td>NaN</td>\n",
       "      <td>NaN</td>\n",
       "      <td>NaN</td>\n",
       "      <td>NaN</td>\n",
       "    </tr>\n",
       "    <tr>\n",
       "      <th>1</th>\n",
       "      <td>1</td>\n",
       "      <td>[]</td>\n",
       "      <td>False</td>\n",
       "      <td>akromyk</td>\n",
       "      <td>NaN</td>\n",
       "      <td>[]</td>\n",
       "      <td>NaN</td>\n",
       "      <td>text</td>\n",
       "      <td>t2_htlnd</td>\n",
       "      <td>False</td>\n",
       "      <td>...</td>\n",
       "      <td>NaN</td>\n",
       "      <td>NaN</td>\n",
       "      <td>NaN</td>\n",
       "      <td>NaN</td>\n",
       "      <td>NaN</td>\n",
       "      <td>NaN</td>\n",
       "      <td>NaN</td>\n",
       "      <td>NaN</td>\n",
       "      <td>NaN</td>\n",
       "      <td>NaN</td>\n",
       "    </tr>\n",
       "    <tr>\n",
       "      <th>2</th>\n",
       "      <td>2</td>\n",
       "      <td>[]</td>\n",
       "      <td>False</td>\n",
       "      <td>billpat-joe-dinosuar</td>\n",
       "      <td>NaN</td>\n",
       "      <td>[]</td>\n",
       "      <td>NaN</td>\n",
       "      <td>text</td>\n",
       "      <td>t2_27n7a0ke</td>\n",
       "      <td>False</td>\n",
       "      <td>...</td>\n",
       "      <td>NaN</td>\n",
       "      <td>NaN</td>\n",
       "      <td>NaN</td>\n",
       "      <td>NaN</td>\n",
       "      <td>NaN</td>\n",
       "      <td>NaN</td>\n",
       "      <td>NaN</td>\n",
       "      <td>NaN</td>\n",
       "      <td>NaN</td>\n",
       "      <td>NaN</td>\n",
       "    </tr>\n",
       "    <tr>\n",
       "      <th>3</th>\n",
       "      <td>3</td>\n",
       "      <td>[]</td>\n",
       "      <td>False</td>\n",
       "      <td>bronxi11</td>\n",
       "      <td>NaN</td>\n",
       "      <td>[]</td>\n",
       "      <td>NaN</td>\n",
       "      <td>text</td>\n",
       "      <td>t2_42ohhult</td>\n",
       "      <td>False</td>\n",
       "      <td>...</td>\n",
       "      <td>NaN</td>\n",
       "      <td>NaN</td>\n",
       "      <td>NaN</td>\n",
       "      <td>NaN</td>\n",
       "      <td>NaN</td>\n",
       "      <td>NaN</td>\n",
       "      <td>NaN</td>\n",
       "      <td>NaN</td>\n",
       "      <td>NaN</td>\n",
       "      <td>NaN</td>\n",
       "    </tr>\n",
       "    <tr>\n",
       "      <th>4</th>\n",
       "      <td>4</td>\n",
       "      <td>[]</td>\n",
       "      <td>False</td>\n",
       "      <td>Hollaback_Boy</td>\n",
       "      <td>NaN</td>\n",
       "      <td>[]</td>\n",
       "      <td>NaN</td>\n",
       "      <td>text</td>\n",
       "      <td>t2_3el1cidt</td>\n",
       "      <td>False</td>\n",
       "      <td>...</td>\n",
       "      <td>NaN</td>\n",
       "      <td>NaN</td>\n",
       "      <td>NaN</td>\n",
       "      <td>NaN</td>\n",
       "      <td>NaN</td>\n",
       "      <td>NaN</td>\n",
       "      <td>NaN</td>\n",
       "      <td>NaN</td>\n",
       "      <td>NaN</td>\n",
       "      <td>NaN</td>\n",
       "    </tr>\n",
       "  </tbody>\n",
       "</table>\n",
       "<p>5 rows × 86 columns</p>\n",
       "</div>"
      ],
      "text/plain": [
       "   Unnamed: 0 all_awardings  allow_live_comments                author  \\\n",
       "0           0            []                False               akromyk   \n",
       "1           1            []                False               akromyk   \n",
       "2           2            []                False  billpat-joe-dinosuar   \n",
       "3           3            []                False              bronxi11   \n",
       "4           4            []                False         Hollaback_Boy   \n",
       "\n",
       "  author_flair_css_class author_flair_richtext author_flair_text  \\\n",
       "0                    NaN                    []               NaN   \n",
       "1                    NaN                    []               NaN   \n",
       "2                    NaN                    []               NaN   \n",
       "3                    NaN                    []               NaN   \n",
       "4                    NaN                    []               NaN   \n",
       "\n",
       "  author_flair_type author_fullname author_is_blocked  ... gallery_data  \\\n",
       "0              text        t2_htlnd             False  ...          NaN   \n",
       "1              text        t2_htlnd             False  ...          NaN   \n",
       "2              text     t2_27n7a0ke             False  ...          NaN   \n",
       "3              text     t2_42ohhult             False  ...          NaN   \n",
       "4              text     t2_3el1cidt             False  ...          NaN   \n",
       "\n",
       "  is_gallery media_metadata  poll_data  removed_by_category  \\\n",
       "0        NaN            NaN        NaN                  NaN   \n",
       "1        NaN            NaN        NaN                  NaN   \n",
       "2        NaN            NaN        NaN                  NaN   \n",
       "3        NaN            NaN        NaN                  NaN   \n",
       "4        NaN            NaN        NaN                  NaN   \n",
       "\n",
       "   link_flair_css_class author_cakeday edited suggested_sort banned_by  \n",
       "0                   NaN            NaN    NaN            NaN       NaN  \n",
       "1                   NaN            NaN    NaN            NaN       NaN  \n",
       "2                   NaN            NaN    NaN            NaN       NaN  \n",
       "3                   NaN            NaN    NaN            NaN       NaN  \n",
       "4                   NaN            NaN    NaN            NaN       NaN  \n",
       "\n",
       "[5 rows x 86 columns]"
      ]
     },
     "execution_count": 3,
     "metadata": {},
     "output_type": "execute_result"
    }
   ],
   "source": [
    "nhl_df.head()"
   ]
  },
  {
   "cell_type": "code",
   "execution_count": 3,
   "id": "57c55512",
   "metadata": {},
   "outputs": [
    {
     "data": {
      "text/html": [
       "<div>\n",
       "<style scoped>\n",
       "    .dataframe tbody tr th:only-of-type {\n",
       "        vertical-align: middle;\n",
       "    }\n",
       "\n",
       "    .dataframe tbody tr th {\n",
       "        vertical-align: top;\n",
       "    }\n",
       "\n",
       "    .dataframe thead th {\n",
       "        text-align: right;\n",
       "    }\n",
       "</style>\n",
       "<table border=\"1\" class=\"dataframe\">\n",
       "  <thead>\n",
       "    <tr style=\"text-align: right;\">\n",
       "      <th></th>\n",
       "      <th>title</th>\n",
       "      <th>selftext</th>\n",
       "      <th>label</th>\n",
       "    </tr>\n",
       "  </thead>\n",
       "  <tbody>\n",
       "    <tr>\n",
       "      <th>0</th>\n",
       "      <td>What's this I've been hearing about turning NH...</td>\n",
       "      <td>Can someone fill me in on what's going on with...</td>\n",
       "      <td>1</td>\n",
       "    </tr>\n",
       "    <tr>\n",
       "      <th>1</th>\n",
       "      <td>ELI5: What's this about turning NHL jerseys in...</td>\n",
       "      <td>I can't watch local games, I can't play the si...</td>\n",
       "      <td>1</td>\n",
       "    </tr>\n",
       "    <tr>\n",
       "      <th>2</th>\n",
       "      <td>Hockey player hits Russian Referee</td>\n",
       "      <td>NaN</td>\n",
       "      <td>1</td>\n",
       "    </tr>\n",
       "  </tbody>\n",
       "</table>\n",
       "</div>"
      ],
      "text/plain": [
       "                                               title  \\\n",
       "0  What's this I've been hearing about turning NH...   \n",
       "1  ELI5: What's this about turning NHL jerseys in...   \n",
       "2                 Hockey player hits Russian Referee   \n",
       "\n",
       "                                            selftext  label  \n",
       "0  Can someone fill me in on what's going on with...      1  \n",
       "1  I can't watch local games, I can't play the si...      1  \n",
       "2                                                NaN      1  "
      ]
     },
     "execution_count": 3,
     "metadata": {},
     "output_type": "execute_result"
    }
   ],
   "source": [
    "nhl_df = nhl_df[['title', 'selftext']]\n",
    "nhl_df['label'] = 1\n",
    "nhl_df.head(3)"
   ]
  },
  {
   "cell_type": "code",
   "execution_count": 4,
   "id": "b8732937",
   "metadata": {},
   "outputs": [
    {
     "data": {
      "text/html": [
       "<div>\n",
       "<style scoped>\n",
       "    .dataframe tbody tr th:only-of-type {\n",
       "        vertical-align: middle;\n",
       "    }\n",
       "\n",
       "    .dataframe tbody tr th {\n",
       "        vertical-align: top;\n",
       "    }\n",
       "\n",
       "    .dataframe thead th {\n",
       "        text-align: right;\n",
       "    }\n",
       "</style>\n",
       "<table border=\"1\" class=\"dataframe\">\n",
       "  <thead>\n",
       "    <tr style=\"text-align: right;\">\n",
       "      <th></th>\n",
       "      <th>title</th>\n",
       "      <th>selftext</th>\n",
       "      <th>label</th>\n",
       "    </tr>\n",
       "  </thead>\n",
       "  <tbody>\n",
       "    <tr>\n",
       "      <th>0</th>\n",
       "      <td>OC: Rookies Adjusting To The NBA (easier for s...</td>\n",
       "      <td>[**Ra asked me**](https://mediumlights.substac...</td>\n",
       "      <td>0</td>\n",
       "    </tr>\n",
       "    <tr>\n",
       "      <th>1</th>\n",
       "      <td>One of the highest upvoted posts and greatest ...</td>\n",
       "      <td>NaN</td>\n",
       "      <td>0</td>\n",
       "    </tr>\n",
       "    <tr>\n",
       "      <th>2</th>\n",
       "      <td>2020 Lakers were up at least 30 points in each...</td>\n",
       "      <td>#[Game 4 vs Portland](https://www.basketball-r...</td>\n",
       "      <td>0</td>\n",
       "    </tr>\n",
       "  </tbody>\n",
       "</table>\n",
       "</div>"
      ],
      "text/plain": [
       "                                               title  \\\n",
       "0  OC: Rookies Adjusting To The NBA (easier for s...   \n",
       "1  One of the highest upvoted posts and greatest ...   \n",
       "2  2020 Lakers were up at least 30 points in each...   \n",
       "\n",
       "                                            selftext  label  \n",
       "0  [**Ra asked me**](https://mediumlights.substac...      0  \n",
       "1                                                NaN      0  \n",
       "2  #[Game 4 vs Portland](https://www.basketball-r...      0  "
      ]
     },
     "execution_count": 4,
     "metadata": {},
     "output_type": "execute_result"
    }
   ],
   "source": [
    "# Remove extra columns and create target column\n",
    "nba_df = nba_df[['title', 'selftext']]\n",
    "nba_df['label'] = 0\n",
    "nba_df.head(3)"
   ]
  },
  {
   "cell_type": "code",
   "execution_count": 5,
   "id": "e6b80066",
   "metadata": {},
   "outputs": [
    {
     "name": "stdout",
     "output_type": "stream",
     "text": [
      "<class 'pandas.core.frame.DataFrame'>\n",
      "RangeIndex: 6000 entries, 0 to 5999\n",
      "Data columns (total 3 columns):\n",
      " #   Column    Non-Null Count  Dtype \n",
      "---  ------    --------------  ----- \n",
      " 0   title     6000 non-null   object\n",
      " 1   selftext  2724 non-null   object\n",
      " 2   label     6000 non-null   int64 \n",
      "dtypes: int64(1), object(2)\n",
      "memory usage: 140.8+ KB\n"
     ]
    }
   ],
   "source": [
    "#Concat data\n",
    "df = pd.concat([nhl_df, nba_df]).reset_index()\n",
    "df.drop(columns = 'index', inplace=True)\n",
    "df.info()"
   ]
  },
  {
   "cell_type": "code",
   "execution_count": 6,
   "id": "c1522a86",
   "metadata": {
    "scrolled": false
   },
   "outputs": [
    {
     "name": "stdout",
     "output_type": "stream",
     "text": [
      "<class 'pandas.core.frame.DataFrame'>\n",
      "Int64Index: 2724 entries, 0 to 5998\n",
      "Data columns (total 3 columns):\n",
      " #   Column    Non-Null Count  Dtype \n",
      "---  ------    --------------  ----- \n",
      " 0   title     2724 non-null   object\n",
      " 1   selftext  2724 non-null   object\n",
      " 2   label     2724 non-null   int64 \n",
      "dtypes: int64(1), object(2)\n",
      "memory usage: 85.1+ KB\n"
     ]
    }
   ],
   "source": [
    "#drop nulls\n",
    "df.dropna(inplace=True)\n",
    "df.info()"
   ]
  },
  {
   "cell_type": "code",
   "execution_count": 7,
   "id": "3159bebb",
   "metadata": {},
   "outputs": [],
   "source": [
    "#drop duplicates\n",
    "df.drop_duplicates(inplace=True)"
   ]
  },
  {
   "cell_type": "code",
   "execution_count": 8,
   "id": "a8fc2db0",
   "metadata": {},
   "outputs": [
    {
     "data": {
      "text/plain": [
       "0     What's this I've been hearing about turning NH...\n",
       "1     ELI5: What's this about turning NHL jerseys in...\n",
       "4     Does ESPN+ Currently Have Last Seasons Games?T...\n",
       "14    Do Little League and kids Hickey teams use NHL...\n",
       "17    About to be a New Yorker and want to get into ...\n",
       "Name: combo, dtype: object"
      ]
     },
     "execution_count": 8,
     "metadata": {},
     "output_type": "execute_result"
    }
   ],
   "source": [
    "# Combine text to new column\n",
    "df['combo'] = df['title'] + df['selftext']\n",
    "df['combo'].head()"
   ]
  },
  {
   "cell_type": "markdown",
   "id": "3492cabd",
   "metadata": {},
   "source": [
    "### Stemming and lemmatizing data"
   ]
  },
  {
   "cell_type": "markdown",
   "id": "e5f62521",
   "metadata": {},
   "source": [
    "Creating a stemmed and lemmatized version of the new \"combo\" data will allow us to test how the two compare in the Random Forest model."
   ]
  },
  {
   "cell_type": "code",
   "execution_count": 9,
   "id": "84308658",
   "metadata": {
    "scrolled": true
   },
   "outputs": [
    {
     "data": {
      "text/html": [
       "<div>\n",
       "<style scoped>\n",
       "    .dataframe tbody tr th:only-of-type {\n",
       "        vertical-align: middle;\n",
       "    }\n",
       "\n",
       "    .dataframe tbody tr th {\n",
       "        vertical-align: top;\n",
       "    }\n",
       "\n",
       "    .dataframe thead th {\n",
       "        text-align: right;\n",
       "    }\n",
       "</style>\n",
       "<table border=\"1\" class=\"dataframe\">\n",
       "  <thead>\n",
       "    <tr style=\"text-align: right;\">\n",
       "      <th></th>\n",
       "      <th>title</th>\n",
       "      <th>selftext</th>\n",
       "      <th>label</th>\n",
       "      <th>combo</th>\n",
       "      <th>combo_lem</th>\n",
       "      <th>combo_stem</th>\n",
       "    </tr>\n",
       "  </thead>\n",
       "  <tbody>\n",
       "    <tr>\n",
       "      <th>0</th>\n",
       "      <td>What's this I've been hearing about turning NH...</td>\n",
       "      <td>Can someone fill me in on what's going on with...</td>\n",
       "      <td>1</td>\n",
       "      <td>What's this I've been hearing about turning NH...</td>\n",
       "      <td>What's this I've been hearing about turning NH...</td>\n",
       "      <td>what's this i've been hearing about turning nh...</td>\n",
       "    </tr>\n",
       "    <tr>\n",
       "      <th>1</th>\n",
       "      <td>ELI5: What's this about turning NHL jerseys in...</td>\n",
       "      <td>I can't watch local games, I can't play the si...</td>\n",
       "      <td>1</td>\n",
       "      <td>ELI5: What's this about turning NHL jerseys in...</td>\n",
       "      <td>ELI5: What's this about turning NHL jerseys in...</td>\n",
       "      <td>eli5: what's this about turning nhl jerseys in...</td>\n",
       "    </tr>\n",
       "    <tr>\n",
       "      <th>4</th>\n",
       "      <td>Does ESPN+ Currently Have Last Seasons Games?</td>\n",
       "      <td>Trying to fill the hole in my life, but I don'...</td>\n",
       "      <td>1</td>\n",
       "      <td>Does ESPN+ Currently Have Last Seasons Games?T...</td>\n",
       "      <td>Does ESPN+ Currently Have Last Seasons Games?T...</td>\n",
       "      <td>does espn+ currently have last seasons games?t...</td>\n",
       "    </tr>\n",
       "    <tr>\n",
       "      <th>14</th>\n",
       "      <td>Do Little League and kids Hickey teams use NHL...</td>\n",
       "      <td>I used to play Hockey in the Little Leagues (P...</td>\n",
       "      <td>1</td>\n",
       "      <td>Do Little League and kids Hickey teams use NHL...</td>\n",
       "      <td>Do Little League and kids Hickey teams use NHL...</td>\n",
       "      <td>do little league and kids hickey teams use nhl...</td>\n",
       "    </tr>\n",
       "    <tr>\n",
       "      <th>17</th>\n",
       "      <td>About to be a New Yorker and want to get into ...</td>\n",
       "      <td>About to be a New Yorker and want to get into ...</td>\n",
       "      <td>1</td>\n",
       "      <td>About to be a New Yorker and want to get into ...</td>\n",
       "      <td>About to be a New Yorker and want to get into ...</td>\n",
       "      <td>about to be a new yorker and want to get into ...</td>\n",
       "    </tr>\n",
       "  </tbody>\n",
       "</table>\n",
       "</div>"
      ],
      "text/plain": [
       "                                                title  \\\n",
       "0   What's this I've been hearing about turning NH...   \n",
       "1   ELI5: What's this about turning NHL jerseys in...   \n",
       "4       Does ESPN+ Currently Have Last Seasons Games?   \n",
       "14  Do Little League and kids Hickey teams use NHL...   \n",
       "17  About to be a New Yorker and want to get into ...   \n",
       "\n",
       "                                             selftext  label  \\\n",
       "0   Can someone fill me in on what's going on with...      1   \n",
       "1   I can't watch local games, I can't play the si...      1   \n",
       "4   Trying to fill the hole in my life, but I don'...      1   \n",
       "14  I used to play Hockey in the Little Leagues (P...      1   \n",
       "17  About to be a New Yorker and want to get into ...      1   \n",
       "\n",
       "                                                combo  \\\n",
       "0   What's this I've been hearing about turning NH...   \n",
       "1   ELI5: What's this about turning NHL jerseys in...   \n",
       "4   Does ESPN+ Currently Have Last Seasons Games?T...   \n",
       "14  Do Little League and kids Hickey teams use NHL...   \n",
       "17  About to be a New Yorker and want to get into ...   \n",
       "\n",
       "                                            combo_lem  \\\n",
       "0   What's this I've been hearing about turning NH...   \n",
       "1   ELI5: What's this about turning NHL jerseys in...   \n",
       "4   Does ESPN+ Currently Have Last Seasons Games?T...   \n",
       "14  Do Little League and kids Hickey teams use NHL...   \n",
       "17  About to be a New Yorker and want to get into ...   \n",
       "\n",
       "                                           combo_stem  \n",
       "0   what's this i've been hearing about turning nh...  \n",
       "1   eli5: what's this about turning nhl jerseys in...  \n",
       "4   does espn+ currently have last seasons games?t...  \n",
       "14  do little league and kids hickey teams use nhl...  \n",
       "17  about to be a new yorker and want to get into ...  "
      ]
     },
     "execution_count": 9,
     "metadata": {},
     "output_type": "execute_result"
    }
   ],
   "source": [
    "# Create Lemmatized column\n",
    "lemmatizer = WordNetLemmatizer()\n",
    "df['combo_lem'] = [lemmatizer.lemmatize(i) for i in df['combo']]\n",
    "\n",
    "# Create Stemmed column\n",
    "stemmer = PorterStemmer()\n",
    "df['combo_stem'] = [stemmer.stem(i) for i in df['combo']]\n",
    "df.head()"
   ]
  },
  {
   "cell_type": "markdown",
   "id": "346b6f43",
   "metadata": {},
   "source": [
    "### Export data"
   ]
  },
  {
   "cell_type": "code",
   "execution_count": 10,
   "id": "d4616cad",
   "metadata": {},
   "outputs": [],
   "source": [
    "# Export to csv\n",
    "df.to_csv('data/nhl_nba_df.csv')"
   ]
  }
 ],
 "metadata": {
  "kernelspec": {
   "display_name": "Python 3",
   "language": "python",
   "name": "python3"
  },
  "language_info": {
   "codemirror_mode": {
    "name": "ipython",
    "version": 3
   },
   "file_extension": ".py",
   "mimetype": "text/x-python",
   "name": "python",
   "nbconvert_exporter": "python",
   "pygments_lexer": "ipython3",
   "version": "3.8.8"
  }
 },
 "nbformat": 4,
 "nbformat_minor": 5
}

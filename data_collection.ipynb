{
 "cells": [
  {
   "cell_type": "markdown",
   "id": "0f39d56d",
   "metadata": {},
   "source": [
    "### Data Collection"
   ]
  },
  {
   "attachments": {},
   "cell_type": "markdown",
   "id": "d1b6a590",
   "metadata": {},
   "source": [
    "- The for loop below requests documents from NBA and NHL API endpoints in batches of 75 with 3 second sleep time between requests.\n",
    "- This respects the server's workload and ensures that we are not flagged as any malicious."
   ]
  },
  {
   "cell_type": "code",
   "execution_count": 1,
   "id": "eb6a95c5",
   "metadata": {},
   "outputs": [],
   "source": [
    "import pandas as pd\n",
    "import numpy as np\n",
    "import requests\n",
    "import time\n",
    "import warnings\n",
    "warnings.filterwarnings('ignore')"
   ]
  },
  {
   "cell_type": "code",
   "execution_count": 2,
   "id": "54165f83",
   "metadata": {},
   "outputs": [],
   "source": [
    "base_url = 'https://api.pushshift.io/reddit/search/'"
   ]
  },
  {
   "cell_type": "code",
   "execution_count": 3,
   "id": "be986045",
   "metadata": {},
   "outputs": [],
   "source": [
    "subreddits = ['nba', 'nhl']\n",
    "for s in subreddits:\n",
    "    posts = pd.DataFrame()\n",
    "    earliest = None\n",
    "    #Collect 3000 posts from each subreddit to account for loss during EDA\n",
    "    for i in range(40):\n",
    "        params = {\n",
    "        'subreddit': s, \n",
    "        'size': 75\n",
    "        }\n",
    "        if earliest != None:\n",
    "            params['before'] = earliest\n",
    "        res = requests.get(base_url + 'submission/', params=params)\n",
    "        data = res.json()\n",
    "        posts = pd.concat([posts, pd.DataFrame(data['data'])])\n",
    "        earliest = posts['created_utc'].min()\n",
    "        time.sleep(3)\n",
    "    posts.to_csv(f'data/posts_{s}_2.csv')"
   ]
  }
 ],
 "metadata": {
  "kernelspec": {
   "display_name": "Python 3",
   "language": "python",
   "name": "python3"
  },
  "language_info": {
   "codemirror_mode": {
    "name": "ipython",
    "version": 3
   },
   "file_extension": ".py",
   "mimetype": "text/x-python",
   "name": "python",
   "nbconvert_exporter": "python",
   "pygments_lexer": "ipython3",
   "version": "3.8.8"
  }
 },
 "nbformat": 4,
 "nbformat_minor": 5
}
